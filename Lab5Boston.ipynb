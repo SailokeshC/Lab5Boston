{
 "cells": [
  {
   "cell_type": "code",
   "execution_count": 1,
   "metadata": {
    "collapsed": true
   },
   "outputs": [],
   "source": [
    "from sklearn import datasets\n",
    "import pandas as pd\n",
    "from sklearn.preprocessing import StandardScaler\n",
    "from sklearn.cross_validation import train_test_split\n",
    "from sklearn.metrics import mean_squared_error\n",
    "from sklearn.metrics import r2_score\n",
    "from sklearn.linear_model import LinearRegression"
   ]
  },
  {
   "cell_type": "code",
   "execution_count": 2,
   "metadata": {
    "collapsed": false
   },
   "outputs": [
    {
     "name": "stdout",
     "output_type": "stream",
     "text": [
      "Boston House Prices dataset\n",
      "\n",
      "Notes\n",
      "------\n",
      "Data Set Characteristics:  \n",
      "\n",
      "    :Number of Instances: 506 \n",
      "\n",
      "    :Number of Attributes: 13 numeric/categorical predictive\n",
      "    \n",
      "    :Median Value (attribute 14) is usually the target\n",
      "\n",
      "    :Attribute Information (in order):\n",
      "        - CRIM     per capita crime rate by town\n",
      "        - ZN       proportion of residential land zoned for lots over 25,000 sq.ft.\n",
      "        - INDUS    proportion of non-retail business acres per town\n",
      "        - CHAS     Charles River dummy variable (= 1 if tract bounds river; 0 otherwise)\n",
      "        - NOX      nitric oxides concentration (parts per 10 million)\n",
      "        - RM       average number of rooms per dwelling\n",
      "        - AGE      proportion of owner-occupied units built prior to 1940\n",
      "        - DIS      weighted distances to five Boston employment centres\n",
      "        - RAD      index of accessibility to radial highways\n",
      "        - TAX      full-value property-tax rate per $10,000\n",
      "        - PTRATIO  pupil-teacher ratio by town\n",
      "        - B        1000(Bk - 0.63)^2 where Bk is the proportion of blacks by town\n",
      "        - LSTAT    % lower status of the population\n",
      "        - MEDV     Median value of owner-occupied homes in $1000's\n",
      "\n",
      "    :Missing Attribute Values: None\n",
      "\n",
      "    :Creator: Harrison, D. and Rubinfeld, D.L.\n",
      "\n",
      "This is a copy of UCI ML housing dataset.\n",
      "http://archive.ics.uci.edu/ml/datasets/Housing\n",
      "\n",
      "\n",
      "This dataset was taken from the StatLib library which is maintained at Carnegie Mellon University.\n",
      "\n",
      "The Boston house-price data of Harrison, D. and Rubinfeld, D.L. 'Hedonic\n",
      "prices and the demand for clean air', J. Environ. Economics & Management,\n",
      "vol.5, 81-102, 1978.   Used in Belsley, Kuh & Welsch, 'Regression diagnostics\n",
      "...', Wiley, 1980.   N.B. Various transformations are used in the table on\n",
      "pages 244-261 of the latter.\n",
      "\n",
      "The Boston house-price data has been used in many machine learning papers that address regression\n",
      "problems.   \n",
      "     \n",
      "**References**\n",
      "\n",
      "   - Belsley, Kuh & Welsch, 'Regression diagnostics: Identifying Influential Data and Sources of Collinearity', Wiley, 1980. 244-261.\n",
      "   - Quinlan,R. (1993). Combining Instance-Based and Model-Based Learning. In Proceedings on the Tenth International Conference of Machine Learning, 236-243, University of Massachusetts, Amherst. Morgan Kaufmann.\n",
      "   - many more! (see http://archive.ics.uci.edu/ml/datasets/Housing)\n",
      "\n"
     ]
    }
   ],
   "source": [
    "bean = datasets.load_boston()\n",
    "print(bean.DESCR)"
   ]
  },
  {
   "cell_type": "code",
   "execution_count": 3,
   "metadata": {
    "collapsed": true
   },
   "outputs": [],
   "source": [
    "def load_boston():\n",
    "    scaler = StandardScaler()\n",
    "    boston = datasets.load_boston()\n",
    "    X=boston.data\n",
    "    y=boston.target\n",
    "    X = scaler.fit_transform(X)\n",
    "    return train_test_split(X,y)"
   ]
  },
  {
   "cell_type": "code",
   "execution_count": 4,
   "metadata": {
    "collapsed": true
   },
   "outputs": [],
   "source": [
    "X_train, X_test, y_train, y_test = load_boston()"
   ]
  },
  {
   "cell_type": "code",
   "execution_count": 5,
   "metadata": {
    "collapsed": false
   },
   "outputs": [
    {
     "data": {
      "text/plain": [
       "(379, 13)"
      ]
     },
     "execution_count": 5,
     "metadata": {},
     "output_type": "execute_result"
    }
   ],
   "source": [
    "X_train.shape"
   ]
  },
  {
   "cell_type": "markdown",
   "metadata": {},
   "source": [
    "Fitting Linear Regression"
   ]
  },
  {
   "cell_type": "code",
   "execution_count": 6,
   "metadata": {
    "collapsed": false
   },
   "outputs": [
    {
     "data": {
      "text/plain": [
       "LinearRegression(copy_X=True, fit_intercept=True, n_jobs=1, normalize=False)"
      ]
     },
     "execution_count": 6,
     "metadata": {},
     "output_type": "execute_result"
    }
   ],
   "source": [
    "LinReg= LinearRegression()\n",
    "LinReg.fit(X_train, y_train)"
   ]
  },
  {
   "cell_type": "code",
   "execution_count": 8,
   "metadata": {
    "collapsed": false
   },
   "outputs": [
    {
     "data": {
      "text/plain": [
       "[(17.0, 22.411783393671538),\n",
       " (13.4, 13.137304539053881),\n",
       " (22.600000000000001, 26.861729135882541),\n",
       " (20.300000000000001, 23.272907537172234),\n",
       " (15.6, 11.995310069128902),\n",
       " (23.0, 30.383112933973013),\n",
       " (34.899999999999999, 34.541268546547194),\n",
       " (19.0, 14.227150630622489),\n",
       " (23.100000000000001, 24.492782745621817),\n",
       " (20.100000000000001, 23.780889463549705),\n",
       " (35.100000000000001, 35.743521415265022),\n",
       " (12.5, 19.494825113921092),\n",
       " (24.800000000000001, 26.828440534087104),\n",
       " (29.100000000000001, 31.527473452319519),\n",
       " (22.600000000000001, 23.06651189930172),\n",
       " (24.0, 29.967324925816353),\n",
       " (29.800000000000001, 32.492211684405675),\n",
       " (18.0, 19.160213968921965),\n",
       " (22.600000000000001, 19.223636586512654),\n",
       " (16.300000000000001, 12.484719589223372),\n",
       " (22.0, 26.330466097941958),\n",
       " (19.0, 21.325535944511032),\n",
       " (23.100000000000001, 24.740839324845528),\n",
       " (19.199999999999999, 20.26468935295453),\n",
       " (9.6999999999999993, 10.156952910255502),\n",
       " (13.800000000000001, 20.531155238261146),\n",
       " (24.399999999999999, 24.137129332127778),\n",
       " (25.0, 25.299992844387482),\n",
       " (12.300000000000001, 13.280938264034926),\n",
       " (17.100000000000001, 19.587624914826968),\n",
       " (19.899999999999999, 20.555561749354403),\n",
       " (21.399999999999999, 24.340329131793141),\n",
       " (26.399999999999999, 29.042521464571152),\n",
       " (35.399999999999999, 30.703554634390706),\n",
       " (22.899999999999999, 25.161896563014061),\n",
       " (24.399999999999999, 23.971704792864116),\n",
       " (16.800000000000001, 20.54482232749254),\n",
       " (23.199999999999999, 27.050141073182402),\n",
       " (32.399999999999999, 36.628497690293784),\n",
       " (32.0, 33.546135899766476),\n",
       " (17.800000000000001, 19.88264159424935),\n",
       " (10.4, 15.762984137199428),\n",
       " (19.399999999999999, 17.103410818583082),\n",
       " (20.399999999999999, 20.895371588501167),\n",
       " (14.1, 18.838356025370807),\n",
       " (22.600000000000001, 27.321311957695197),\n",
       " (18.300000000000001, 20.555962465487813),\n",
       " (21.899999999999999, 37.773152581725242),\n",
       " (13.5, 13.474704427571673),\n",
       " (19.600000000000001, 18.256277993489714),\n",
       " (44.0, 37.431430395558934),\n",
       " (26.600000000000001, 21.488584772761008),\n",
       " (18.399999999999999, 19.44954073829803),\n",
       " (31.100000000000001, 32.069437646772812),\n",
       " (23.0, 23.795111476234581),\n",
       " (20.899999999999999, 21.224594200138863),\n",
       " (19.300000000000001, 20.410046170578255),\n",
       " (11.800000000000001, 8.5666245539267614),\n",
       " (42.299999999999997, 36.796207085902303),\n",
       " (33.200000000000003, 32.448604109325643),\n",
       " (25.199999999999999, 27.482123293866902),\n",
       " (20.5, 21.317441816874616),\n",
       " (22.0, 27.275091392777611),\n",
       " (13.1, 14.213593968373004),\n",
       " (8.5, 16.609232485365226),\n",
       " (23.100000000000001, 25.061244957841062),\n",
       " (50.0, 44.827139600769314),\n",
       " (29.600000000000001, 24.674036043954011),\n",
       " (24.699999999999999, 23.122896395740657),\n",
       " (9.5999999999999996, 14.342510106651542),\n",
       " (22.0, 21.166243444014434),\n",
       " (20.300000000000001, 22.846181200879933),\n",
       " (20.800000000000001, 23.769626683121398),\n",
       " (22.199999999999999, 22.068086281320994),\n",
       " (21.800000000000001, 21.580877454630532),\n",
       " (19.800000000000001, 18.486245197786602),\n",
       " (22.199999999999999, 26.223368069209823),\n",
       " (10.800000000000001, 11.491358071745978),\n",
       " (21.199999999999999, 21.53351281671133),\n",
       " (22.899999999999999, 19.84499640117853),\n",
       " (24.399999999999999, 28.802129657983407),\n",
       " (19.600000000000001, 17.655281454867048),\n",
       " (26.600000000000001, 28.030371445215039),\n",
       " (19.399999999999999, 17.334697402304275),\n",
       " (8.0999999999999996, 3.618609493380891),\n",
       " (23.899999999999999, 26.373703462506466),\n",
       " (20.100000000000001, 19.482415076868616),\n",
       " (7.4000000000000004, 5.9618821235023347),\n",
       " (21.199999999999999, 23.557218935488581),\n",
       " (19.899999999999999, 19.324169227385351),\n",
       " (15.0, 16.132940044859456),\n",
       " (50.0, 35.450584002461802),\n",
       " (14.9, 17.180035037286956),\n",
       " (24.199999999999999, 25.579860494139762),\n",
       " (16.199999999999999, 15.432125493155445),\n",
       " (13.9, 13.225864126806933),\n",
       " (23.100000000000001, 16.899653376292804),\n",
       " (20.0, 22.576699521811101),\n",
       " (36.5, 35.933169752687576),\n",
       " (22.699999999999999, 25.377932031392245),\n",
       " (22.199999999999999, 24.057189828017968),\n",
       " (18.399999999999999, 15.959111081225071),\n",
       " (32.200000000000003, 31.253921200956874),\n",
       " (21.699999999999999, 22.890500284489132),\n",
       " (22.100000000000001, 27.275742671451319),\n",
       " (23.100000000000001, 23.277261344948823),\n",
       " (28.699999999999999, 25.284968615148074),\n",
       " (11.300000000000001, 13.671933927640769),\n",
       " (28.699999999999999, 30.994928874785444),\n",
       " (21.399999999999999, 23.307244319707657),\n",
       " (19.300000000000001, 22.418210757766538),\n",
       " (23.699999999999999, 28.526355268886878),\n",
       " (46.700000000000003, 35.75908141301197),\n",
       " (24.100000000000001, 19.724453979290686),\n",
       " (21.699999999999999, 20.931099369949063),\n",
       " (50.0, 43.336004793031407),\n",
       " (23.399999999999999, 24.14799442079137),\n",
       " (12.6, 18.257878094426239),\n",
       " (22.0, 29.09436152933592),\n",
       " (24.300000000000001, 29.705219541499751),\n",
       " (24.800000000000001, 24.996508017521236),\n",
       " (15.6, 13.327850808092583),\n",
       " (29.600000000000001, 24.992649553098612),\n",
       " (33.0, 22.986626239398596),\n",
       " (21.899999999999999, 15.773950434370729),\n",
       " (38.700000000000003, 35.956196944511177),\n",
       " (22.0, 22.731551641934537)]"
      ]
     },
     "execution_count": 8,
     "metadata": {},
     "output_type": "execute_result"
    }
   ],
   "source": [
    "list(zip (y_test, LinReg.predict(X_test)))"
   ]
  },
  {
   "cell_type": "markdown",
   "metadata": {},
   "source": [
    "To get the Mean Squared Error and R Squared values before applying Ridge linear model is as follows"
   ]
  },
  {
   "cell_type": "code",
   "execution_count": 9,
   "metadata": {
    "collapsed": true
   },
   "outputs": [],
   "source": [
    "from sklearn.linear_model import Lasso"
   ]
  },
  {
   "cell_type": "code",
   "execution_count": 10,
   "metadata": {
    "collapsed": true
   },
   "outputs": [],
   "source": [
    "from sklearn.linear_model import Ridge"
   ]
  },
  {
   "cell_type": "code",
   "execution_count": 11,
   "metadata": {
    "collapsed": true
   },
   "outputs": [],
   "source": [
    "y_LinPrediction=LinReg.predict(X_test)"
   ]
  },
  {
   "cell_type": "code",
   "execution_count": 12,
   "metadata": {
    "collapsed": true
   },
   "outputs": [],
   "source": [
    "Mn_sqr_val=mean_squared_error(y_test,y_LinPrediction)"
   ]
  },
  {
   "cell_type": "code",
   "execution_count": 13,
   "metadata": {
    "collapsed": false
   },
   "outputs": [
    {
     "data": {
      "text/plain": [
       "16.144071345323891"
      ]
     },
     "execution_count": 13,
     "metadata": {},
     "output_type": "execute_result"
    }
   ],
   "source": [
    "Mn_sqr_val"
   ]
  },
  {
   "cell_type": "code",
   "execution_count": 14,
   "metadata": {
    "collapsed": true
   },
   "outputs": [],
   "source": [
    "R_sqr_val=r2_score(y_test,y_LinPrediction)"
   ]
  },
  {
   "cell_type": "code",
   "execution_count": 15,
   "metadata": {
    "collapsed": false
   },
   "outputs": [
    {
     "data": {
      "text/plain": [
       "0.75886686055456987"
      ]
     },
     "execution_count": 15,
     "metadata": {},
     "output_type": "execute_result"
    }
   ],
   "source": [
    "R_sqr_val"
   ]
  },
  {
   "cell_type": "markdown",
   "metadata": {},
   "source": [
    "So, the Mean squared error is 16.144071345323891 and R squared value is 0.75886686055456987"
   ]
  },
  {
   "cell_type": "markdown",
   "metadata": {},
   "source": [
    "To get the Mean Squared Error and R Squared values after applying Ridge linear model is as follows"
   ]
  },
  {
   "cell_type": "markdown",
   "metadata": {},
   "source": [
    "Let us consider alpha=0.01"
   ]
  },
  {
   "cell_type": "code",
   "execution_count": 17,
   "metadata": {
    "collapsed": true
   },
   "outputs": [],
   "source": [
    "alpha=0.01"
   ]
  },
  {
   "cell_type": "code",
   "execution_count": 18,
   "metadata": {
    "collapsed": true
   },
   "outputs": [],
   "source": [
    "Rid_LM=Ridge(alpha=alpha)"
   ]
  },
  {
   "cell_type": "markdown",
   "metadata": {},
   "source": [
    "Using Fit function"
   ]
  },
  {
   "cell_type": "code",
   "execution_count": 19,
   "metadata": {
    "collapsed": false
   },
   "outputs": [
    {
     "data": {
      "text/plain": [
       "Ridge(alpha=0.01, copy_X=True, fit_intercept=True, max_iter=None,\n",
       "   normalize=False, random_state=None, solver='auto', tol=0.001)"
      ]
     },
     "execution_count": 19,
     "metadata": {},
     "output_type": "execute_result"
    }
   ],
   "source": [
    "Rid_LM.fit(X_train,y_train)"
   ]
  },
  {
   "cell_type": "markdown",
   "metadata": {},
   "source": [
    "Making Prediction"
   ]
  },
  {
   "cell_type": "code",
   "execution_count": 21,
   "metadata": {
    "collapsed": false
   },
   "outputs": [
    {
     "data": {
      "text/plain": [
       "[(17.0, 22.412607663722632),\n",
       " (13.4, 13.137005095735233),\n",
       " (22.600000000000001, 26.861431996697096),\n",
       " (20.300000000000001, 23.271362531444396),\n",
       " (15.6, 11.996027203376107),\n",
       " (23.0, 30.382598372683088),\n",
       " (34.899999999999999, 34.541448659406463),\n",
       " (19.0, 14.226950373625691),\n",
       " (23.100000000000001, 24.492820878894467),\n",
       " (20.100000000000001, 23.780640765947734),\n",
       " (35.100000000000001, 35.742631843122567),\n",
       " (12.5, 19.494706273045225),\n",
       " (24.800000000000001, 26.82812866751598),\n",
       " (29.100000000000001, 31.527306625852944),\n",
       " (22.600000000000001, 23.06621756968627),\n",
       " (24.0, 29.967800422643272),\n",
       " (29.800000000000001, 32.492267917340435),\n",
       " (18.0, 19.160552835008055),\n",
       " (22.600000000000001, 19.223767449618506),\n",
       " (16.300000000000001, 12.484301006598814),\n",
       " (22.0, 26.330566003829126),\n",
       " (19.0, 21.325440550442298),\n",
       " (23.100000000000001, 24.741237498208029),\n",
       " (19.199999999999999, 20.265026427528205),\n",
       " (9.6999999999999993, 10.156831603909982),\n",
       " (13.800000000000001, 20.5309668251696),\n",
       " (24.399999999999999, 24.137375781108272),\n",
       " (25.0, 25.300030463703418),\n",
       " (12.300000000000001, 13.280784531588081),\n",
       " (17.100000000000001, 19.58795813192965),\n",
       " (19.899999999999999, 20.555140784416157),\n",
       " (21.399999999999999, 24.340422917566613),\n",
       " (26.399999999999999, 29.042143336626566),\n",
       " (35.399999999999999, 30.703234243016762),\n",
       " (22.899999999999999, 25.161745321959856),\n",
       " (24.399999999999999, 23.971711941759857),\n",
       " (16.800000000000001, 20.545183856859243),\n",
       " (23.199999999999999, 27.049685446123714),\n",
       " (32.399999999999999, 36.627942982605127),\n",
       " (32.0, 33.546114736809542),\n",
       " (17.800000000000001, 19.883073210736992),\n",
       " (10.4, 15.764033664031921),\n",
       " (19.399999999999999, 17.10394249260392),\n",
       " (20.399999999999999, 20.895677453251345),\n",
       " (14.1, 18.83804211587892),\n",
       " (22.600000000000001, 27.321435488139105),\n",
       " (18.300000000000001, 20.556307751372991),\n",
       " (21.899999999999999, 37.773522334705383),\n",
       " (13.5, 13.475189820903761),\n",
       " (19.600000000000001, 18.256673447316931),\n",
       " (44.0, 37.430677629599593),\n",
       " (26.600000000000001, 21.490080395693123),\n",
       " (18.399999999999999, 19.450058032232683),\n",
       " (31.100000000000001, 32.069344823863602),\n",
       " (23.0, 23.795282416365886),\n",
       " (20.899999999999999, 21.225059503151982),\n",
       " (19.300000000000001, 20.410446179844602),\n",
       " (11.800000000000001, 8.5672673382857987),\n",
       " (42.299999999999997, 36.796476579976911),\n",
       " (33.200000000000003, 32.448864567681269),\n",
       " (25.199999999999999, 27.481642181859179),\n",
       " (20.5, 21.315933193021863),\n",
       " (22.0, 27.275003559387681),\n",
       " (13.1, 14.213958885278302),\n",
       " (8.5, 16.609006437651328),\n",
       " (23.100000000000001, 25.061225263279134),\n",
       " (50.0, 44.82662038700353),\n",
       " (29.600000000000001, 24.674616360549642),\n",
       " (24.699999999999999, 23.122829768444344),\n",
       " (9.5999999999999996, 14.342740686572888),\n",
       " (22.0, 21.166675022826801),\n",
       " (20.300000000000001, 22.846214214740641),\n",
       " (20.800000000000001, 23.769643125900643),\n",
       " (22.199999999999999, 22.068286570570599),\n",
       " (21.800000000000001, 21.58032348530438),\n",
       " (19.800000000000001, 18.486372598324813),\n",
       " (22.199999999999999, 26.2231174142768),\n",
       " (10.800000000000001, 11.491552368743303),\n",
       " (21.199999999999999, 21.533750248355489),\n",
       " (22.899999999999999, 19.846383211151444),\n",
       " (24.399999999999999, 28.80154682182409),\n",
       " (19.600000000000001, 17.655646026407709),\n",
       " (26.600000000000001, 28.030308992638325),\n",
       " (19.399999999999999, 17.334661052273805),\n",
       " (8.0999999999999996, 3.6202317822494692),\n",
       " (23.899999999999999, 26.373188257541052),\n",
       " (20.100000000000001, 19.4827295643497),\n",
       " (7.4000000000000004, 5.9620313756759877),\n",
       " (21.199999999999999, 23.557612454509712),\n",
       " (19.899999999999999, 19.324542153855816),\n",
       " (15.0, 16.132708249420403),\n",
       " (50.0, 35.450090799960677),\n",
       " (14.9, 17.180159147145599),\n",
       " (24.199999999999999, 25.579766157939819),\n",
       " (16.199999999999999, 15.432358137862854),\n",
       " (13.9, 13.226305073907049),\n",
       " (23.100000000000001, 16.900183869354173),\n",
       " (20.0, 22.57648080626905),\n",
       " (36.5, 35.932835973343636),\n",
       " (22.699999999999999, 25.377529280855256),\n",
       " (22.199999999999999, 24.057123122713893),\n",
       " (18.399999999999999, 15.959449329452635),\n",
       " (32.200000000000003, 31.253957139226301),\n",
       " (21.699999999999999, 22.890408630785664),\n",
       " (22.100000000000001, 27.275498095321272),\n",
       " (23.100000000000001, 23.276961302767653),\n",
       " (28.699999999999999, 25.285171945132472),\n",
       " (11.300000000000001, 13.671787803443536),\n",
       " (28.699999999999999, 30.99518042476377),\n",
       " (21.399999999999999, 23.305662280317428),\n",
       " (19.300000000000001, 22.417928423689379),\n",
       " (23.699999999999999, 28.526117635629888),\n",
       " (46.700000000000003, 35.758845248257039),\n",
       " (24.100000000000001, 19.725954969134868),\n",
       " (21.699999999999999, 20.931221815544973),\n",
       " (50.0, 43.335890073630758),\n",
       " (23.399999999999999, 24.147800032522277),\n",
       " (12.6, 18.257999619971017),\n",
       " (22.0, 29.093973462581523),\n",
       " (24.300000000000001, 29.704583382240731),\n",
       " (24.800000000000001, 24.99670096522895),\n",
       " (15.6, 13.328205913080879),\n",
       " (29.600000000000001, 24.99229524876877),\n",
       " (33.0, 22.987302718509852),\n",
       " (21.899999999999999, 15.773505894698875),\n",
       " (38.700000000000003, 35.95651447308974),\n",
       " (22.0, 22.730024603738006)]"
      ]
     },
     "execution_count": 21,
     "metadata": {},
     "output_type": "execute_result"
    }
   ],
   "source": [
    "list(zip(y_test,Rid_LM.predict(X_test)))"
   ]
  },
  {
   "cell_type": "code",
   "execution_count": 22,
   "metadata": {
    "collapsed": true
   },
   "outputs": [],
   "source": [
    "y_RegPrediction=Rid_LM.predict(X_test)"
   ]
  },
  {
   "cell_type": "code",
   "execution_count": 23,
   "metadata": {
    "collapsed": true
   },
   "outputs": [],
   "source": [
    "Rid_Mn_sqr_val=mean_squared_error(y_test,y_RegPrediction)"
   ]
  },
  {
   "cell_type": "code",
   "execution_count": 24,
   "metadata": {
    "collapsed": false
   },
   "outputs": [
    {
     "data": {
      "text/plain": [
       "16.143398675252879"
      ]
     },
     "execution_count": 24,
     "metadata": {},
     "output_type": "execute_result"
    }
   ],
   "source": [
    "Rid_Mn_sqr_val"
   ]
  },
  {
   "cell_type": "code",
   "execution_count": 25,
   "metadata": {
    "collapsed": true
   },
   "outputs": [],
   "source": [
    "Rid_R_sqr_val=r2_score(y_test,y_RegPrediction)"
   ]
  },
  {
   "cell_type": "code",
   "execution_count": 26,
   "metadata": {
    "collapsed": false
   },
   "outputs": [
    {
     "data": {
      "text/plain": [
       "0.75887690777516026"
      ]
     },
     "execution_count": 26,
     "metadata": {},
     "output_type": "execute_result"
    }
   ],
   "source": [
    "Rid_R_sqr_val"
   ]
  },
  {
   "cell_type": "markdown",
   "metadata": {},
   "source": [
    "So, after applying ridge model the Mean squared error is 16.143398675252879 and R squared value is 0.75887690777516026"
   ]
  },
  {
   "cell_type": "code",
   "execution_count": null,
   "metadata": {
    "collapsed": true
   },
   "outputs": [],
   "source": []
  }
 ],
 "metadata": {
  "anaconda-cloud": {},
  "kernelspec": {
   "display_name": "Python [default]",
   "language": "python",
   "name": "python3"
  },
  "language_info": {
   "codemirror_mode": {
    "name": "ipython",
    "version": 3
   },
   "file_extension": ".py",
   "mimetype": "text/x-python",
   "name": "python",
   "nbconvert_exporter": "python",
   "pygments_lexer": "ipython3",
   "version": "3.5.2"
  }
 },
 "nbformat": 4,
 "nbformat_minor": 1
}
